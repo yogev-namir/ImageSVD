{
 "cells": [
  {
   "cell_type": "code",
   "execution_count": null,
   "outputs": [],
   "source": [
    "from PIL import Image\n",
    "import numpy as np\n",
    "import matplotlib.pyplot as plt"
   ],
   "metadata": {
    "collapsed": false,
    "pycharm": {
     "name": "#%%\n"
    }
   }
  },
  {
   "cell_type": "code",
   "execution_count": null,
   "outputs": [],
   "source": [
    "image = Image.open(r'C:\\Users\\user\\Desktop\\image.JPG')\n",
    "my_array = np.array(image)"
   ],
   "metadata": {
    "collapsed": false,
    "pycharm": {
     "name": "#%%\n"
    }
   }
  },
  {
   "cell_type": "code",
   "execution_count": null,
   "outputs": [],
   "source": [
    "pix = np.array(image)\n",
    "print(pix.shape)\n",
    "# print(pix)"
   ],
   "metadata": {
    "collapsed": false,
    "pycharm": {
     "name": "#%%\n"
    }
   }
  },
  {
   "cell_type": "code",
   "execution_count": null,
   "outputs": [],
   "source": [
    "# Separation of the image channels\n",
    "images = Image.Image.split(image)\n",
    "uL = []\n",
    "sL = []\n",
    "vL = []\n",
    "for i,im in enumerate(images):\n",
    "    svd =  np.linalg.svd(im, full_matrices=True, compute_uv=True)\n",
    "    uL.append(svd[2])\n",
    "    sL.append(svd[1])\n",
    "    vL.append(svd[0])\n"
   ],
   "metadata": {
    "collapsed": false,
    "pycharm": {
     "name": "#%%\n"
    }
   }
  },
  {
   "cell_type": "code",
   "execution_count": null,
   "outputs": [],
   "source": [
    "print(images[0].size)"
   ],
   "metadata": {
    "collapsed": false,
    "pycharm": {
     "name": "#%%\n"
    }
   }
  },
  {
   "cell_type": "code",
   "execution_count": null,
   "outputs": [],
   "source": [
    "# K = [1,2,5,7,10,15,20,40,80]\n",
    "K = [20]\n",
    "RAE = []\n",
    "SumK = []\n",
    "\n",
    "for k in K:\n",
    "    SumIm = []\n",
    "    for m in range(len(images)):\n",
    "        Ak = np.zeros(uL[m][:,i].shape[0],vL[m][:,i].T.shape[0])\n",
    "        for i in range(k):\n",
    "            ui = uL[m][:,i].reshape(uL[m][:,i].shape[0],1)\n",
    "            vi = vL[m][:,i].reshape(vL[m][:,i].T.shape[0],1)\n",
    "            Ak += sL[m][i] * np.outer(ui.T,vi)\n",
    "        SumIm.append(Ak)\n",
    "    SumK.append(SumIm)"
   ],
   "metadata": {
    "collapsed": false,
    "pycharm": {
     "name": "#%%\n"
    }
   }
  },
  {
   "cell_type": "code",
   "execution_count": null,
   "outputs": [],
   "source": [],
   "metadata": {
    "collapsed": false,
    "pycharm": {
     "name": "#%%\n"
    }
   }
  },
  {
   "cell_type": "code",
   "execution_count": null,
   "outputs": [],
   "source": [
    "red = Image.fromarray(SumK[0][0].astype('uint8'))\n",
    "green = Image.fromarray(SumK[0][1].astype('uint8'))\n",
    "blue = Image.fromarray(SumK[0][2].astype('uint8'))\n",
    "rgb = Image.merge(\"RGB\",(red,green,blue))\n",
    "rgb.show()"
   ],
   "metadata": {
    "collapsed": false,
    "pycharm": {
     "name": "#%%\n"
    }
   }
  },
  {
   "cell_type": "code",
   "execution_count": null,
   "outputs": [],
   "source": [
    "def low_rank_approx(SVD=None, A=None, r=1):\n",
    "    \"\"\"\n",
    "    Computes an r-rank approximation of a matrix\n",
    "    given the component u, s, and v of it's SVD\n",
    "    Requires: numpy\n",
    "    \"\"\"\n",
    "    if not SVD:\n",
    "        SVD = np.linalg.svd(A, full_matrices=False)\n",
    "    u, s, v = SVD\n",
    "    Ar = np.zeros((len(u), len(v)))\n",
    "    for i in range(r):\n",
    "        Ar += s[i] * np.outer(u.T[i], v[i])\n",
    "    return Ar"
   ],
   "metadata": {
    "collapsed": false,
    "pycharm": {
     "name": "#%%\n"
    }
   }
  },
  {
   "cell_type": "code",
   "execution_count": null,
   "outputs": [],
   "source": [
    "gray_image = image.convert(\"L\")\n",
    "v,s,u = np.linalg.svd(gray_image, full_matrices=True,compute_uv=True)\n"
   ],
   "metadata": {
    "collapsed": false,
    "pycharm": {
     "name": "#%%\n"
    }
   }
  },
  {
   "cell_type": "code",
   "execution_count": null,
   "outputs": [],
   "source": [
    "k=50\n",
    "Ak=0\n",
    "for i in range(k):\n",
    "    Ak += s[i] * np.outer(u[i], v[i])"
   ],
   "metadata": {
    "collapsed": false,
    "pycharm": {
     "name": "#%%\n"
    }
   }
  },
  {
   "cell_type": "code",
   "execution_count": null,
   "outputs": [],
   "source": [
    "print(image.size, Ak.shape)\n",
    "imageK = Image.fromarray(Ak.astype('uint8'))\n",
    "imageK.show()"
   ],
   "metadata": {
    "collapsed": false,
    "pycharm": {
     "name": "#%%\n"
    }
   }
  },
  {
   "cell_type": "code",
   "execution_count": null,
   "outputs": [],
   "source": [
    "cat = Image.open(f'IMG.jpg')"
   ],
   "metadata": {
    "collapsed": false,
    "pycharm": {
     "name": "#%%\n"
    }
   }
  },
  {
   "cell_type": "code",
   "execution_count": null,
   "outputs": [],
   "source": [
    "k=20\n",
    "gray_cat = cat.convert(\"L\")\n",
    "u,s,v = np.linalg.svd(gray_cat, full_matrices=False)\n",
    "Ak=np.zeros((u.shape[0], v.shape[1]))\n",
    "for i in range(k):\n",
    "    Ak += s[i] * np.outer(u.T[i], v[i])\n",
    "\n",
    "imageK = Image.fromarray(Ak.astype('uint8'))\n",
    "imageK.show()\n"
   ],
   "metadata": {
    "collapsed": false,
    "pycharm": {
     "name": "#%%\n"
    }
   }
  },
  {
   "cell_type": "code",
   "execution_count": 35,
   "outputs": [
    {
     "name": "stdout",
     "output_type": "stream",
     "text": [
      "(3977, 3977) (3977,) (5965, 5965)\n",
      "(3977, 3977) (3977,) (5965, 5965)\n",
      "(3977, 3977) (3977,) (5965, 5965)\n"
     ]
    }
   ],
   "source": [
    "# Separation of the image channels\n",
    "images = Image.Image.split(image)\n",
    "uL = []\n",
    "sL = []\n",
    "vL = []\n",
    "for i,im in enumerate(images):\n",
    "    svd =  np.linalg.svd(im, full_matrices=True, compute_uv=True)\n",
    "    uL.append(svd[2])\n",
    "    sL.append(svd[1])\n",
    "    vL.append(svd[0])\n"
   ],
   "metadata": {
    "collapsed": false,
    "pycharm": {
     "name": "#%%\n"
    }
   }
  },
  {
   "cell_type": "code",
   "execution_count": 32,
   "outputs": [
    {
     "name": "stdout",
     "output_type": "stream",
     "text": [
      "(5965, 3977)\n"
     ]
    }
   ],
   "source": [
    "print(images[0].size)"
   ],
   "metadata": {
    "collapsed": false,
    "pycharm": {
     "name": "#%%\n"
    }
   }
  },
  {
   "cell_type": "code",
   "execution_count": 110,
   "outputs": [
    {
     "ename": "TypeError",
     "evalue": "Cannot interpret '3977' as a data type",
     "output_type": "error",
     "traceback": [
      "\u001B[1;31m---------------------------------------------------------------------------\u001B[0m",
      "\u001B[1;31mTypeError\u001B[0m                                 Traceback (most recent call last)",
      "Cell \u001B[1;32mIn[110], line 9\u001B[0m\n\u001B[0;32m      7\u001B[0m SumIm \u001B[38;5;241m=\u001B[39m []\n\u001B[0;32m      8\u001B[0m \u001B[38;5;28;01mfor\u001B[39;00m m \u001B[38;5;129;01min\u001B[39;00m \u001B[38;5;28mrange\u001B[39m(\u001B[38;5;28mlen\u001B[39m(images)):\n\u001B[1;32m----> 9\u001B[0m     Ak \u001B[38;5;241m=\u001B[39m \u001B[43mnp\u001B[49m\u001B[38;5;241;43m.\u001B[39;49m\u001B[43mzeros\u001B[49m\u001B[43m(\u001B[49m\u001B[43muL\u001B[49m\u001B[43m[\u001B[49m\u001B[43mm\u001B[49m\u001B[43m]\u001B[49m\u001B[43m[\u001B[49m\u001B[43m:\u001B[49m\u001B[43m,\u001B[49m\u001B[43mi\u001B[49m\u001B[43m]\u001B[49m\u001B[38;5;241;43m.\u001B[39;49m\u001B[43mshape\u001B[49m\u001B[43m[\u001B[49m\u001B[38;5;241;43m0\u001B[39;49m\u001B[43m]\u001B[49m\u001B[43m,\u001B[49m\u001B[43mvL\u001B[49m\u001B[43m[\u001B[49m\u001B[43mm\u001B[49m\u001B[43m]\u001B[49m\u001B[43m[\u001B[49m\u001B[43m:\u001B[49m\u001B[43m,\u001B[49m\u001B[43mi\u001B[49m\u001B[43m]\u001B[49m\u001B[38;5;241;43m.\u001B[39;49m\u001B[43mT\u001B[49m\u001B[38;5;241;43m.\u001B[39;49m\u001B[43mshape\u001B[49m\u001B[43m[\u001B[49m\u001B[38;5;241;43m0\u001B[39;49m\u001B[43m]\u001B[49m\u001B[43m)\u001B[49m\n\u001B[0;32m     10\u001B[0m     \u001B[38;5;28;01mfor\u001B[39;00m i \u001B[38;5;129;01min\u001B[39;00m \u001B[38;5;28mrange\u001B[39m(k):\n\u001B[0;32m     11\u001B[0m         ui \u001B[38;5;241m=\u001B[39m uL[m][:,i]\u001B[38;5;241m.\u001B[39mreshape(uL[m][:,i]\u001B[38;5;241m.\u001B[39mshape[\u001B[38;5;241m0\u001B[39m],\u001B[38;5;241m1\u001B[39m)\n",
      "\u001B[1;31mTypeError\u001B[0m: Cannot interpret '3977' as a data type"
     ]
    }
   ],
   "source": [
    "# K = [1,2,5,7,10,15,20,40,80]\n",
    "K = [20]\n",
    "RAE = []\n",
    "SumK = []\n",
    "\n",
    "for k in K:\n",
    "    SumIm = []\n",
    "    for m in range(len(images)):\n",
    "        Ak = np.zeros(uL[m][:,i].shape[0],vL[m][:,i].T.shape[0])\n",
    "        for i in range(k):\n",
    "            ui = uL[m][:,i].reshape(uL[m][:,i].shape[0],1)\n",
    "            vi = vL[m][:,i].reshape(vL[m][:,i].T.shape[0],1)\n",
    "            Ak += sL[m][i] * np.outer(ui.T,vi)\n",
    "        SumIm.append(Ak)\n",
    "    SumK.append(SumIm)"
   ],
   "metadata": {
    "collapsed": false,
    "pycharm": {
     "name": "#%%\n"
    }
   }
  },
  {
   "cell_type": "code",
   "execution_count": null,
   "outputs": [],
   "source": [],
   "metadata": {
    "collapsed": false,
    "pycharm": {
     "name": "#%%\n"
    }
   }
  },
  {
   "cell_type": "code",
   "execution_count": 68,
   "outputs": [],
   "source": [
    "red = Image.fromarray(SumK[0][0].astype('uint8'))\n",
    "green = Image.fromarray(SumK[0][1].astype('uint8'))\n",
    "blue = Image.fromarray(SumK[0][2].astype('uint8'))\n",
    "rgb = Image.merge(\"RGB\",(red,green,blue))\n",
    "rgb.show()"
   ],
   "metadata": {
    "collapsed": false,
    "pycharm": {
     "name": "#%%\n"
    }
   }
  },
  {
   "cell_type": "code",
   "execution_count": 64,
   "outputs": [],
   "source": [
    "def low_rank_approx(SVD=None, A=None, r=1):\n",
    "    \"\"\"\n",
    "    Computes an r-rank approximation of a matrix\n",
    "    given the component u, s, and v of it's SVD\n",
    "    Requires: numpy\n",
    "    \"\"\"\n",
    "    if not SVD:\n",
    "        SVD = np.linalg.svd(A, full_matrices=False)\n",
    "    u, s, v = SVD\n",
    "    Ar = np.zeros((len(u), len(v)))\n",
    "    for i in range(r):\n",
    "        Ar += s[i] * np.outer(u.T[i], v[i])\n",
    "    return Ar"
   ],
   "metadata": {
    "collapsed": false,
    "pycharm": {
     "name": "#%%\n"
    }
   }
  },
  {
   "cell_type": "code",
   "execution_count": 82,
   "outputs": [
    {
     "ename": "KeyboardInterrupt",
     "evalue": "",
     "output_type": "error",
     "traceback": [
      "\u001B[1;31m---------------------------------------------------------------------------\u001B[0m",
      "\u001B[1;31mKeyboardInterrupt\u001B[0m                         Traceback (most recent call last)",
      "Cell \u001B[1;32mIn[82], line 2\u001B[0m\n\u001B[0;32m      1\u001B[0m gray_image \u001B[38;5;241m=\u001B[39m image\u001B[38;5;241m.\u001B[39mconvert(\u001B[38;5;124m\"\u001B[39m\u001B[38;5;124mL\u001B[39m\u001B[38;5;124m\"\u001B[39m)\n\u001B[1;32m----> 2\u001B[0m v,s,u \u001B[38;5;241m=\u001B[39m \u001B[43mnp\u001B[49m\u001B[38;5;241;43m.\u001B[39;49m\u001B[43mlinalg\u001B[49m\u001B[38;5;241;43m.\u001B[39;49m\u001B[43msvd\u001B[49m\u001B[43m(\u001B[49m\u001B[43mgray_image\u001B[49m\u001B[43m,\u001B[49m\u001B[43m \u001B[49m\u001B[43mfull_matrices\u001B[49m\u001B[38;5;241;43m=\u001B[39;49m\u001B[38;5;28;43;01mTrue\u001B[39;49;00m\u001B[43m,\u001B[49m\u001B[43mcompute_uv\u001B[49m\u001B[38;5;241;43m=\u001B[39;49m\u001B[38;5;28;43;01mTrue\u001B[39;49;00m\u001B[43m)\u001B[49m\n",
      "File \u001B[1;32m<__array_function__ internals>:180\u001B[0m, in \u001B[0;36msvd\u001B[1;34m(*args, **kwargs)\u001B[0m\n",
      "File \u001B[1;32m~\\anaconda3\\envs\\ImageSVD\\lib\\site-packages\\numpy\\linalg\\linalg.py:1657\u001B[0m, in \u001B[0;36msvd\u001B[1;34m(a, full_matrices, compute_uv, hermitian)\u001B[0m\n\u001B[0;32m   1654\u001B[0m         gufunc \u001B[38;5;241m=\u001B[39m _umath_linalg\u001B[38;5;241m.\u001B[39msvd_n_s\n\u001B[0;32m   1656\u001B[0m signature \u001B[38;5;241m=\u001B[39m \u001B[38;5;124m'\u001B[39m\u001B[38;5;124mD->DdD\u001B[39m\u001B[38;5;124m'\u001B[39m \u001B[38;5;28;01mif\u001B[39;00m isComplexType(t) \u001B[38;5;28;01melse\u001B[39;00m \u001B[38;5;124m'\u001B[39m\u001B[38;5;124md->ddd\u001B[39m\u001B[38;5;124m'\u001B[39m\n\u001B[1;32m-> 1657\u001B[0m u, s, vh \u001B[38;5;241m=\u001B[39m \u001B[43mgufunc\u001B[49m\u001B[43m(\u001B[49m\u001B[43ma\u001B[49m\u001B[43m,\u001B[49m\u001B[43m \u001B[49m\u001B[43msignature\u001B[49m\u001B[38;5;241;43m=\u001B[39;49m\u001B[43msignature\u001B[49m\u001B[43m,\u001B[49m\u001B[43m \u001B[49m\u001B[43mextobj\u001B[49m\u001B[38;5;241;43m=\u001B[39;49m\u001B[43mextobj\u001B[49m\u001B[43m)\u001B[49m\n\u001B[0;32m   1658\u001B[0m u \u001B[38;5;241m=\u001B[39m u\u001B[38;5;241m.\u001B[39mastype(result_t, copy\u001B[38;5;241m=\u001B[39m\u001B[38;5;28;01mFalse\u001B[39;00m)\n\u001B[0;32m   1659\u001B[0m s \u001B[38;5;241m=\u001B[39m s\u001B[38;5;241m.\u001B[39mastype(_realType(result_t), copy\u001B[38;5;241m=\u001B[39m\u001B[38;5;28;01mFalse\u001B[39;00m)\n",
      "\u001B[1;31mKeyboardInterrupt\u001B[0m: "
     ]
    }
   ],
   "source": [
    "gray_image = image.convert(\"L\")\n",
    "v,s,u = np.linalg.svd(gray_image, full_matrices=True,compute_uv=True)\n"
   ],
   "metadata": {
    "collapsed": false,
    "pycharm": {
     "name": "#%%\n"
    }
   }
  },
  {
   "cell_type": "code",
   "execution_count": null,
   "outputs": [],
   "source": [
    "k=50\n",
    "Ak=0\n",
    "for i in range(k):\n",
    "    Ak += s[i] * np.outer(u[i], v[i])"
   ],
   "metadata": {
    "collapsed": false,
    "pycharm": {
     "name": "#%%\n"
    }
   }
  },
  {
   "cell_type": "code",
   "execution_count": null,
   "outputs": [],
   "source": [
    "print(image.size, Ak.shape)\n",
    "imageK = Image.fromarray(Ak.astype('uint8'))\n",
    "imageK.show()"
   ],
   "metadata": {
    "collapsed": false,
    "pycharm": {
     "name": "#%%\n"
    }
   }
  },
  {
   "cell_type": "code",
   "execution_count": 112,
   "outputs": [],
   "source": [
    "cat = Image.open(f'IMG.jpg')"
   ],
   "metadata": {
    "collapsed": false,
    "pycharm": {
     "name": "#%%\n"
    }
   }
  },
  {
   "cell_type": "code",
   "execution_count": 113,
   "outputs": [
    {
     "name": "stdout",
     "output_type": "stream",
     "text": [
      "(3977,) (5965,)\n",
      "(3977,) (5965,)\n",
      "(3977,) (5965,)\n",
      "(3977,) (5965,)\n",
      "(3977,) (5965,)\n",
      "(3977,) (5965,)\n",
      "(3977,) (5965,)\n",
      "(3977,) (5965,)\n",
      "(3977,) (5965,)\n",
      "(3977,) (5965,)\n",
      "(3977,) (5965,)\n",
      "(3977,) (5965,)\n",
      "(3977,) (5965,)\n",
      "(3977,) (5965,)\n",
      "(3977,) (5965,)\n",
      "(3977,) (5965,)\n",
      "(3977,) (5965,)\n",
      "(3977,) (5965,)\n",
      "(3977,) (5965,)\n",
      "(3977,) (5965,)\n"
     ]
    }
   ],
   "source": [
    "k=20\n",
    "gray_cat = cat.convert(\"L\")\n",
    "u,s,v = np.linalg.svd(gray_cat, full_matrices=False)\n",
    "Ak=np.zeros((u.shape[0], v.shape[1]))\n",
    "for i in range(k):\n",
    "    Ak += s[i] * np.outer(u.T[i], v[i])\n",
    "\n",
    "imageK = Image.fromarray(Ak.astype('uint8'))\n",
    "imageK.show()\n"
   ],
   "metadata": {
    "collapsed": false,
    "pycharm": {
     "name": "#%%\n"
    }
   }
  }
 ],
 "metadata": {
  "kernelspec": {
   "display_name": "Python 3",
   "language": "python",
   "name": "python3"
  },
  "language_info": {
   "codemirror_mode": {
    "name": "ipython",
    "version": 2
   },
   "file_extension": ".py",
   "mimetype": "text/x-python",
   "name": "python",
   "nbconvert_exporter": "python",
   "pygments_lexer": "ipython2",
   "version": "2.7.6"
  }
 },
 "nbformat": 4,
 "nbformat_minor": 0
}